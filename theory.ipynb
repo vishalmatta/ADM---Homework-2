{
 "cells": [
  {
   "cell_type": "markdown",
   "metadata": {},
   "source": [
    "### Theoretical Question\n",
    "\n",
    "We are given the recursive function ***splitSwap***, which accepts an array $a$, an index $i$, and a length $n$, together with ***swapList***, a nested function which takes the same arguments."
   ]
  },
  {
   "cell_type": "code",
   "execution_count": 32,
   "metadata": {},
   "outputs": [],
   "source": [
    "def swapList(a, l, n):\n",
    "    for i in range(int(n//2)):\n",
    "        temp = a[l + i]\n",
    "        a[l + i] = a[l + int(n//2) + i]\n",
    "        a[l + int(n//2) + i] = temp\n",
    "    return a\n",
    "    \n",
    "def splitSwap(a, l, n):\n",
    "    if n <= 1:\n",
    "        return\n",
    "    splitSwap(a, l, n//2)\n",
    "    splitSwap(a, l + (n//2), n//2)\n",
    "    swapList(a, l, n)\n",
    "    return a"
   ]
  },
  {
   "cell_type": "markdown",
   "metadata": {},
   "source": [
    "#### Question 1\n",
    "\n",
    "Set $l = 0$. First, we need to assume that $n\\leq len(a)$, otherwise $splitSwap(a, \\ell, n)$ cannot be correctly executed due to an index out of bound error. We want to compute the comlexity of $splitSwap(a, 0, n)$</p>\n",
    "First of all, we observe that the complexity $T_0$ of the subroutine function $swapList(a,0,n)$ is $\\mathcal{O}(n)$, since there are three operations executed in each of the $\\frac{n}{2}$ loops, that is: $$T_0(n)= \\frac{3}{2}n \\Longrightarrow T_0 \\sim\\mathcal{O}(n).$$\n",
    "The complexity $T_1(n)$ of $swapList(a,0,n)$ can be instead computed by recurrence as follows:\n",
    "$$T_1(n)=T_1(\\frac{n}{2})+T_1(\\frac{n}{2})+T_0(n)= 2T_1(\\frac{n}{2})+\\frac{3}{2} = $$\n",
    "$$= 2[2T_1(\\frac{n}{2^2})+\\frac{3}{2^2}n]+\\frac{3}{2}n = 2^2T_1(\\frac{n}{2^2})+2\\frac{3}{2}n =$$\n",
    "$$= \\ldots = 2^kT_1(\\frac{n}{2^k})+\\frac{3}{2}kn$$\n",
    "The recurrence will stop when the argument of $T_1$ will be equal to 1, i.e. for $k = \\log_2(n)$:\n",
    "$$T_1(n) = nT_1(1)+\\frac{3}{2}n\\log_2(n) = n+\\frac{3}{2}n\\log_2(n)$$\n",
    "This also means that the complexity of $splitSwap(a, 0, n)$ is $$\\boldsymbol{\\mathcal{O}(n\\log_2(n))}.$$"
   ]
  },
  {
   "cell_type": "markdown",
   "metadata": {},
   "source": [
    "Question 2</p>\n",
    "Dependong on the values of $l$ and $n$ the function $splitSwap(a, l, n )$ produce a different swapping of the list:\n",
    "\n",
    "1. If $\\ell=0$ and $n=len(a)=2^p$ for some $p>0$, the function inverts all the elements of the array; if $n = len(a)$ but it is not a power of 2, then the eleents of the array are swapped in smaller groups:"
   ]
  },
  {
   "cell_type": "code",
   "execution_count": 46,
   "metadata": {},
   "outputs": [
    {
     "data": {
      "text/plain": [
       "[16, 15, 14, 13, 12, 11, 10, 9, 8, 7, 6, 5, 4, 3, 2, 1]"
      ]
     },
     "execution_count": 46,
     "metadata": {},
     "output_type": "execute_result"
    }
   ],
   "source": [
    "a=[1,2,3,4,5,6,7,8,9,10,11,12,13,14,15,16]\n",
    "splitSwap(a,0,len(a))"
   ]
  },
  {
   "cell_type": "code",
   "execution_count": 47,
   "metadata": {},
   "outputs": [
    {
     "data": {
      "text/plain": [
       "[9, 8, 7, 6, 10, 4, 3, 2, 1, 5, 11]"
      ]
     },
     "execution_count": 47,
     "metadata": {},
     "output_type": "execute_result"
    }
   ],
   "source": [
    "a=[1,2,3,4,5,6,7,8,9,10,11]\n",
    "splitSwap(a,0,len(a))"
   ]
  },
  {
   "cell_type": "markdown",
   "metadata": {},
   "source": [
    "2. If $\\ell=0$ and $n\\leq len(a)$ only the elements up to $n$ are swapped:"
   ]
  },
  {
   "cell_type": "code",
   "execution_count": 48,
   "metadata": {},
   "outputs": [
    {
     "data": {
      "text/plain": [
       "[11, 10, 12, 8, 7, 9, 5, 4, 6, 2, 1, 3, 13, 14, 15, 16]"
      ]
     },
     "execution_count": 48,
     "metadata": {},
     "output_type": "execute_result"
    }
   ],
   "source": [
    "a=[1,2,3,4,5,6,7,8,9,10,11,12,13,14,15,16]\n",
    "splitSwap(a,0,len(a)-4)"
   ]
  },
  {
   "cell_type": "markdown",
   "metadata": {},
   "source": [
    "3. If $\\ell>0$ and $n = (len(a)-\\ell)$ only the part with indeces $i \\geq \\ell$ is swapped:"
   ]
  },
  {
   "cell_type": "code",
   "execution_count": 49,
   "metadata": {},
   "outputs": [
    {
     "data": {
      "text/plain": [
       "[1, 2, 3, 12, 11, 10, 9, 13, 7, 6, 5, 4, 8, 14]"
      ]
     },
     "execution_count": 49,
     "metadata": {},
     "output_type": "execute_result"
    }
   ],
   "source": [
    "a=[1,2,3,4,5,6,7,8,9,10,11,12,13,14]\n",
    "splitSwap(a,3,len(a)-3)"
   ]
  },
  {
   "cell_type": "markdown",
   "metadata": {},
   "source": [
    "4. Finally, if $\\ell>0$ and $n<(len(a)-\\ell)$, then only the part with indeces $\\ell \\leq i \\leq n+1$ is swapped:"
   ]
  },
  {
   "cell_type": "code",
   "execution_count": 50,
   "metadata": {},
   "outputs": [
    {
     "data": {
      "text/plain": [
       "[1, 2, 3, 14, 13, 15, 11, 10, 12, 8, 7, 9, 5, 4, 6, 16, 17, 18, 19]"
      ]
     },
     "execution_count": 50,
     "metadata": {},
     "output_type": "execute_result"
    }
   ],
   "source": [
    "a=[1,2,3,4,5,6,7,8,9,10,11,12,13,14,15,16,17,18,19]\n",
    "splitSwap(a,3,len(a)-6)"
   ]
  },
  {
   "cell_type": "markdown",
   "metadata": {},
   "source": [
    "The $splitSwap(a, \\ell, n)$ function is not optimal because, as shown before, it has a computational complexity of $\\mathcal{O}(n\\log_2(n))$. In fact, there exist alternative algorithms to that function which only have a complessity of $\\mathcal{O}(n)$. An example is the following $listSwap(a, \\ell, n)$:"
   ]
  },
  {
   "cell_type": "code",
   "execution_count": 51,
   "metadata": {},
   "outputs": [],
   "source": [
    "def listSwap(a, l, n):\n",
    "    app = []\n",
    "    if l == 0:\n",
    "        for i in range(n-1, -1, -1):\n",
    "            app.append(a[i])\n",
    "        for i in range(len(a)-n):\n",
    "            app.append(a[n+i])\n",
    "    else:\n",
    "        for i in range(len(a)-n):\n",
    "            app.append(a[i])\n",
    "        for i in range(n-1, -1, -1):\n",
    "            app.append(a[i+l])\n",
    "    print(app)"
   ]
  }
 ],
 "metadata": {
  "kernelspec": {
   "display_name": "Python 3",
   "language": "python",
   "name": "python3"
  },
  "language_info": {
   "codemirror_mode": {
    "name": "ipython",
    "version": 3
   },
   "file_extension": ".py",
   "mimetype": "text/x-python",
   "name": "python",
   "nbconvert_exporter": "python",
   "pygments_lexer": "ipython3",
   "version": "3.7.3"
  }
 },
 "nbformat": 4,
 "nbformat_minor": 2
}
